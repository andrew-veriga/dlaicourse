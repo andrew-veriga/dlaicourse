{
  "nbformat": 4,
  "nbformat_minor": 0,
  "metadata": {
    "accelerator": "GPU",
    "colab": {
      "name": "Упражнение_tfds_hello_world.ipynb\"",
      "provenance": []
    },
    "kernelspec": {
      "display_name": "Python 3",
      "language": "python",
      "name": "python3"
    },
    "language_info": {
      "codemirror_mode": {
        "name": "ipython",
        "version": 3
      },
      "file_extension": ".py",
      "mimetype": "text/x-python",
      "name": "python",
      "nbconvert_exporter": "python",
      "pygments_lexer": "ipython3",
      "version": "3.7.4"
    }
  },
  "cells": [
    {
      "cell_type": "markdown",
      "metadata": {
        "id": "5k1NXdmNE1Bb"
      },
      "source": [
        "# TFDS Hello World"
      ]
    },
    {
      "cell_type": "markdown",
      "metadata": {
        "id": "nwsFhUw4E1Br"
      },
      "source": [
        "В этой записной книжке мы рассмотрим простой сценарий Hello World для наборов данных TensorFlow (TFDS). Мы будем использовать TFDS для выполнения процессов извлечения, преобразования и загрузки набора данных MNIST."
      ]
    },
    {
      "cell_type": "markdown",
      "metadata": {
        "id": "YDjJMxU6E1Bs"
      },
      "source": [
        "## Установка\n",
        "\n",
        "Мы начнем с импорта TensorFlow, TensorFlow Datasets и Matplotlib."
      ]
    },
    {
      "cell_type": "code",
      "metadata": {
        "id": "aY09q0jIE1Bs"
      },
      "source": [
        "try:\n",
        "    %tensorflow_version 2.x\n",
        "except:\n",
        "    pass"
      ],
      "execution_count": null,
      "outputs": []
    },
    {
      "cell_type": "code",
      "metadata": {
        "id": "TTBSvHcSLBzc"
      },
      "source": [
        "import matplotlib.pyplot as plt\n",
        "\n",
        "import tensorflow as tf\n",
        "import tensorflow_datasets as tfds\n",
        "\n",
        "print(\"\\u2022 Using TensorFlow Version:\", tf.__version__)"
      ],
      "execution_count": null,
      "outputs": []
    },
    {
      "cell_type": "markdown",
      "metadata": {
        "id": "5nSBylzsE1Bu"
      },
      "source": [
        "## Извлечь - Преобразовать - Загрузить (ETL)\n",
        "\n",
        "Теперь запустим код ** ETL **. Во-первых, чтобы выполнить процесс ** Извлечь **, мы используем tfts.load. Это обрабатывает всё, от загрузки необработанных данных и до их анализа и разделения, давая нам набор данных. Затем мы выполняем процесс ** Преобразование **. В этом простом примере наш процесс преобразования будет просто состоять из перетасовки набора данных. Наконец, мы ** Загружаем ** одну запись с помощью метода take (1). В этом случае каждая запись состоит из изображения и соответствующей ему метки. После загрузки записи мы приступаем к нанесению изображения и печати соответствующей метки. "
      ]
    },
    {
      "cell_type": "code",
      "metadata": {
        "id": "AAWkn0UxvhZw"
      },
      "source": [
        "# Извлечь\n",
        "dataset = tfds.load(name=\"mnist\", split=\"train\")\n",
        "\n",
        "# Преобразовать\n",
        "dataset.shuffle(100)\n",
        "\n",
        "# Загрузить\n",
        "for data in dataset.take(1):\n",
        "    image = data[\"image\"].numpy().squeeze()\n",
        "    label = data[\"label\"].numpy()\n",
        "    \n",
        "    print(\"Label: {}\".format(label))\n",
        "    plt.imshow(image, cmap=plt.cm.binary)\n",
        "    plt.show()"
      ],
      "execution_count": null,
      "outputs": []
    }
  ]
}