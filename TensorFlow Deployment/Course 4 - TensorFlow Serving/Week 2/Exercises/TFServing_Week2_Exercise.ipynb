{
  "nbformat": 4,
  "nbformat_minor": 0,
  "metadata": {
    "accelerator": "GPU",
    "colab": {
      "name": "TFServing_Week2_Exercise.ipynb",
      "provenance": [],
      "collapsed_sections": [],
      "toc_visible": true,
      "include_colab_link": true
    },
    "kernelspec": {
      "display_name": "Python 3",
      "language": "python",
      "name": "python3"
    },
    "language_info": {
      "codemirror_mode": {
        "name": "ipython",
        "version": 3
      },
      "file_extension": ".py",
      "mimetype": "text/x-python",
      "name": "python",
      "nbconvert_exporter": "python",
      "pygments_lexer": "ipython3",
      "version": "3.7.4"
    }
  },
  "cells": [
    {
      "cell_type": "markdown",
      "metadata": {
        "id": "view-in-github",
        "colab_type": "text"
      },
      "source": [
        "<a href=\"https://colab.research.google.com/github/andrew-veriga/dlaicourse/blob/master/TensorFlow%20Deployment/Course%204%20-%20TensorFlow%20Serving/Week%202/Exercises/TFServing_Week2_Exercise.ipynb\" target=\"_parent\"><img src=\"https://colab.research.google.com/assets/colab-badge.svg\" alt=\"Open In Colab\"/></a>"
      ]
    },
    {
      "cell_type": "code",
      "metadata": {
        "id": "zX4Kg8DUTKWO"
      },
      "source": [
        "#@title Licensed under the Apache License, Version 2.0 (the \"License\");\n",
        "# you may not use this file except in compliance with the License.\n",
        "# You may obtain a copy of the License at\n",
        "#\n",
        "# https://www.apache.org/licenses/LICENSE-2.0\n",
        "#\n",
        "# Unless required by applicable law or agreed to in writing, software\n",
        "# distributed under the License is distributed on an \"AS IS\" BASIS,\n",
        "# WITHOUT WARRANTIES OR CONDITIONS OF ANY KIND, either express or implied.\n",
        "# See the License for the specific language governing permissions and\n",
        "# limitations under the License."
      ],
      "execution_count": null,
      "outputs": []
    },
    {
      "cell_type": "markdown",
      "metadata": {
        "id": "ALCxPdSdX3NU"
      },
      "source": [
        "# Экспорт классификатора MNIST в формате SavedModel\n",
        "В этом упражнении мы узнаем, как создавать модели для TensorFlow Hub. Вам будет поручено выполнить следующие задачи:\n",
        "\n",
        "* Создание простого классификатора MNIST и оценка его точности.\n",
        "* Экспорт в SavedModel.\n",
        "* Размещение модели в качестве модуля TF Hub.\n",
        "* Импорт этого модуля TF Hub для использования с Keras Layers.\n"
      ]
    },
    {
      "cell_type": "code",
      "metadata": {
        "id": "HbZbp9ZRZ5wV"
      },
      "source": [
        "try:\n",
        "    %tensorflow_version 2.x\n",
        "except:\n",
        "    pass"
      ],
      "execution_count": null,
      "outputs": []
    },
    {
      "cell_type": "code",
      "metadata": {
        "id": "swaA66rjiRTd"
      },
      "source": [
        "import numpy as np\n",
        "import tensorflow as tf\n",
        "import tensorflow_hub as hub\n",
        "import tensorflow_datasets as tfds\n",
        "tfds.disable_progress_bar()\n",
        "\n",
        "print(\"\\u2022 Используется TensorFlow версия:\", tf.__version__)"
      ],
      "execution_count": null,
      "outputs": []
    },
    {
      "cell_type": "markdown",
      "metadata": {
        "id": "UMZdLgyN7gby"
      },
      "source": [
        "## Создание классификатора MNIST\n",
        "\n",
        "Мы начнем с создания класса под названием `MNIST`. Этот класс загрузит набор данных MNIST, предварительно обработает изображения из набора данных и построит классификатор на основе CNN. Этот класс также будет иметь несколько методов для обучения, тестирования и сохранения нашей модели.\n",
        "\n",
        "В ячейке ниже введите недостающий код и создайте следующую модель Keras `Sequential`:\n",
        "\n",
        "```\n",
        "    Model: \"sequential\"\n",
        "    _________________________________________________________________\n",
        "    Layer (type)                 Output Shape              Param #   \n",
        "    =================================================================\n",
        "    lambda (Lambda)              (None, 28, 28, 1)         0         \n",
        "    _________________________________________________________________\n",
        "    conv2d (Conv2D)              (None, 28, 28, 8)         80        \n",
        "    _________________________________________________________________\n",
        "    max_pooling2d (MaxPooling2D) (None, 14, 14, 8)         0         \n",
        "    _________________________________________________________________\n",
        "    conv2d_1 (Conv2D)            (None, 14, 14, 16)        1168      \n",
        "    _________________________________________________________________\n",
        "    max_pooling2d_1 (MaxPooling2 (None, 7, 7, 16)          0         \n",
        "    _________________________________________________________________\n",
        "    conv2d_2 (Conv2D)            (None, 7, 7, 32)          4640      \n",
        "    _________________________________________________________________\n",
        "    flatten (Flatten)            (None, 1568)              0         \n",
        "    _________________________________________________________________\n",
        "    dense (Dense)                (None, 128)               200832    \n",
        "    _________________________________________________________________\n",
        "    dense_1 (Dense)              (None, 10)                1290      \n",
        "    =================================================================\n",
        "\n",
        "```\n",
        "\n",
        "Обратите внимание, что мы используем слой `tf.keras.layers.Lambda` в начале нашей модели. Слои `Lambda` используются для обертывания произвольных выражений в виде объекта Layer:\n",
        "\n",
        "```python\n",
        "tf.keras.layers.Lambda(expression)\n",
        "```\n",
        "\n",
        "The `Lambda` layer exists so that arbitrary TensorFlow functions can be used when constructing `Sequential` and Functional API models. `Lambda` layers are best suited for simple operations. \n",
        "Слой `Lambda` существует для того, чтобы произвольные функции `TensorFlow` можно было использовать при построении моделей `Sequential` и  API функций. Слои `Lambda` лучше всего подходят для простых операций."
      ]
    },
    {
      "cell_type": "code",
      "metadata": {
        "id": "0mpi4NwcZ5wX"
      },
      "source": [
        "class MNIST:\n",
        "    def __init__(self, export_path, buffer_size=1000, batch_size=32,\n",
        "                 learning_rate=1e-3, epochs=10):\n",
        "        self._export_path = export_path\n",
        "        self._buffer_size = buffer_size\n",
        "        self._batch_size = batch_size\n",
        "        self._learning_rate = learning_rate\n",
        "        self._epochs = epochs\n",
        "    \n",
        "        self._build_model()\n",
        "        self.train_dataset, self.test_dataset = self._prepare_dataset()\n",
        "    \n",
        "    # функция для предварительной обрабоки изображения\n",
        "    def preprocess_fn(self, x):\n",
        "        \n",
        "        # УПРАЖНЕНИЕ: приведите x к tf.float32 с помощью функции tf.cast ().\n",
        "        # Вы также должны нормализовать значения x, чтобы они находились в диапазоне [0, 1].\n",
        "        x = # ВАШ КОД ЗДЕСЬ\n",
        "            \n",
        "        return x\n",
        "        \n",
        "    def _build_model(self):\n",
        "        \n",
        "        # УПРАЖНЕНИЕ: Постройте модель в соответствии с summary модели, показанной выше.\n",
        "        self._model = tf.keras.models.Sequential([\n",
        "            tf.keras.layers.Input(shape=(28, 28, 1), dtype=tf.uint8),\n",
        "            \n",
        "            # Используйте слой Lambda, чтобы использовать функцию self.preprocess_fn, \n",
        "            # определенную выше, для предварительной обработки изображений.\n",
        "            # ВАШ КОД ЗДЕСЬ\n",
        "            \n",
        "            # Создайте слой Conv2D с 8 фильтрами, размером ядра 3 и padding='same'.\n",
        "            # YOUR CODE HERE\n",
        "            \n",
        "            # Создайте слой MaxPool2D()со значениями по умалчанию\n",
        "            # YOUR CODE HERE\n",
        "            \n",
        "            # Создайте слой Conv2D  с 16 фильтрами, размером ядра 3 и padding='same'.\n",
        "            # YOUR CODE HERE\n",
        "            \n",
        "            # Создайте слой MaxPool2D()со значениями по умалчанию\n",
        "            # YOUR CODE HERE\n",
        "            \n",
        "            # Создайте слой Conv2D  с 32 фильтрами, размером ядра 3 и padding='same'.\n",
        "            # YOUR CODE HERE\n",
        "            \n",
        "            # Создайте слои Flatten и Dense как описано выше в model.summary()\n",
        "            # YOUR CODE HERE\n",
        "        ])\n",
        "        # УПРАЖНЕНИЕ: определите оптимизатор, функцию потерь и метрики.\n",
        "        # Используйте оптимизатор tf.keras.optimizers.Adam и установите\n",
        "        # скорость обучения для self._learning_rate.\n",
        "        optimizer_fn = # YOUR CODE HERE\n",
        "        \n",
        "        # Используйте sparse_categorical_crossentropy в качестве функции потерь.\n",
        "        loss_fn = # YOUR CODE HERE\n",
        "        \n",
        "        # установите метрику accuracy.\n",
        "        metrics_list = # YOUR CODE HERE\n",
        "     \n",
        "        # Compile the model.\n",
        "        self._model.compile(optimizer_fn, loss=loss_fn, metrics=metrics_list)\n",
        "        \n",
        "    def _prepare_dataset(self):\n",
        "        # УПРАЖНЕНИЕ: загрузите набор данных MNIST с помощью tfds.load (). \n",
        "        # Вам следует загрузить изображения и также метки, им соответствующие;\n",
        "        # загружаем как тестовые, так и тренировочные.\n",
        "        dataset = # YOUR CODE HERE\n",
        "        \n",
        "        # УПРАЖНЕНИЕ: разделите ваш датасет на 'train' and 'test'\n",
        "        train_dataset, test_dataset = # YOUR CODE HERE\n",
        "        \n",
        "        return train_dataset, test_dataset\n",
        "    \n",
        "    def train(self):\n",
        "        # УПРАЖНЕНИЕ: перемешайте и разделите на пакеты набор self.train_dataset. \n",
        "        # Используйте self._buffer_size как буфер перемешивания \n",
        "        # и self._batch_size как размер пакета\n",
        "        dataset_tr = # YOUR CODE HERE\n",
        "        \n",
        "        # Тренируйте модель указанное количество эпох\n",
        "        self._model.fit(dataset_tr, epochs=self._epochs)\n",
        "        \n",
        "    def test(self):\n",
        "\n",
        "        # УПРАЖНЕНИЕ: разделите на пакеты self.test_dataset. Используйте размер пакета 32.\n",
        "        dataset_te = # YOUR CODE HERE\n",
        "        \n",
        "        # оценка датасета\n",
        "        results = self._model.evaluate(dataset_te)\n",
        "    \n",
        "        # вывод значений метрики оценки модели.\n",
        "        for name, value in zip(self._model.metrics_names, results):\n",
        "            print(\"%s: %.3f\" % (name, value))\n",
        "            \n",
        "    def export_model(self):\n",
        "        # Сохранение модели.\n",
        "        tf.saved_model.save(self._model, self._export_path)"
      ],
      "execution_count": null,
      "outputs": []
    },
    {
      "cell_type": "markdown",
      "metadata": {
        "id": "-dDAjgDe7lp4"
      },
      "source": [
        "## Тренировка, оценивание и сохранение  модели\n",
        "\n",
        "Теперь мы будем использовать созданный выше класс MNIST для создания объекта mnist. При создании нашего объекта `mnist` мы будем использовать словарь для передачи наших параметров обучения. Затем мы вызовем методы `train` и `export_model` для обучения и сохранения нашей модели. Наконец, мы вызовем метод `test`, чтобы оценить нашу модель после обучения.\n",
        "\n",
        "**ПРИМЕЧАНИЕ:** тренировка модели на 5 эпохах займет около 12 минут.\n"
      ]
    },
    {
      "cell_type": "code",
      "metadata": {
        "id": "w6Ba6ileois3"
      },
      "source": [
        "# Определить параметры тренировки.\n",
        "args = {'export_path': './saved_model',\n",
        "        'buffer_size': 1000,\n",
        "        'batch_size': 32,\n",
        "        'learning_rate': 1e-3,\n",
        "        'epochs': 5\n",
        "}\n",
        "\n",
        "# Создание объекта mnist. \n",
        "mnist = MNIST(**args)\n",
        "\n",
        "# Тренировка модели.\n",
        "mnist.train()\n",
        "\n",
        "# Сохранение модели.\n",
        "mnist.export_model()\n",
        "\n",
        "# Оценивание тренированной модели MNIST.\n",
        "mnist.test()"
      ],
      "execution_count": null,
      "outputs": []
    },
    {
      "cell_type": "markdown",
      "metadata": {
        "id": "sotJ7pQm7umV"
      },
      "source": [
        "## Создание файла tarball\n",
        "Метод `export_model` сохранил нашу модель в формате TensorFlow SavedModel в каталоге `./Saved_model`. Формат SavedModel сохраняет нашу модель и ее веса в различных файлах и каталогах. Так распространять модель будет довольно затруднительно. Поэтому будет удобно создать единый сжатый файл, содержащий все файлы и папки нашей модели. Для этого мы будем использовать программу архивирования tar, чтобы создать tarball (похоже на Zip-файл), содержащий нашу SavedModel.\n"
      ]
    },
    {
      "cell_type": "code",
      "metadata": {
        "id": "UTOmizWLZ5wf"
      },
      "source": [
        "# Создание a tarball из SavedModel.\n",
        "!tar -cz -f module.tar.gz -C ./saved_model ."
      ],
      "execution_count": null,
      "outputs": []
    },
    {
      "cell_type": "markdown",
      "metadata": {
        "id": "TuLDqA-RZ5wg"
      },
      "source": [
        "## Проверка Tarball\n",
        "Мы можем разархивировать наш tarball, чтобы убедиться, что он содерждит все файлы и каталоги нашей сохраненной модели"
      ]
    },
    {
      "cell_type": "code",
      "metadata": {
        "id": "NknIrjE1ovkF"
      },
      "source": [
        "# Проверка tarball.\n",
        "!tar -tf module.tar.gz"
      ],
      "execution_count": null,
      "outputs": []
    },
    {
      "cell_type": "markdown",
      "metadata": {
        "id": "n8LjCeO474N4"
      },
      "source": [
        "## Моделирование условий сервера\n",
        "\n",
        "После того, как мы проверили наш архив, мы можем моделировать состояние сервера. В обычном сценарии мы получаем наш модуль TF Hub с удаленного сервера, используя дескриптор модуля. Однако, поскольку этот нутбук не может размещать сервер, вместо этого мы укажем дескриптор модуля на каталог, в котором хранится наша SavedModel.\n"
      ]
    },
    {
      "cell_type": "code",
      "metadata": {
        "id": "C-8vmmtVxJVF"
      },
      "source": [
        "!rm -rf ./module\n",
        "!mkdir -p module\n",
        "!tar xvzf module.tar.gz -C ./module"
      ],
      "execution_count": null,
      "outputs": []
    },
    {
      "cell_type": "code",
      "metadata": {
        "id": "TSmU1oZgxJZS"
      },
      "source": [
        "# Определим дескриптор модуля.\n",
        "MODULE_HANDLE = './module'"
      ],
      "execution_count": null,
      "outputs": []
    },
    {
      "cell_type": "markdown",
      "metadata": {
        "id": "vgPZ5jQGZ5wh"
      },
      "source": [
        "## Load the TF Hub Module"
      ]
    },
    {
      "cell_type": "code",
      "metadata": {
        "id": "b2lOfoKab5Rv"
      },
      "source": [
        "# УПРАЖНЕНИЕ: загрузить наш хаб-модуль с использованием hub.load\n",
        "model = # YOUR CODE HERE"
      ],
      "execution_count": null,
      "outputs": []
    },
    {
      "cell_type": "markdown",
      "metadata": {
        "id": "IjwQrBjVZ5wj"
      },
      "source": [
        "## Тестирование модуля TF Hub\n",
        "\n",
        "Теперь мы протестируем наш модуль TF Hub с изображениями из тестового набора данных MNIST."
      ]
    },
    {
      "cell_type": "code",
      "metadata": {
        "id": "dCmeWVj_ovno"
      },
      "source": [
        "# УПРАЖНЕНИЕ: загрузить датасет MNIST, раздел 'test', с использованием tfds.load(). \n",
        "# Вам следует загрузить изображения вместе с их метками.\n",
        "\n",
        "dataset = # YOUR CODE HERE\n",
        "\n",
        "# УПРАЖНЕНИЕ: Разделить датасет на пакеты, используя batch size = 32.\n",
        "test_dataset = # YOUR CODE HERE"
      ],
      "execution_count": null,
      "outputs": []
    },
    {
      "cell_type": "code",
      "metadata": {
        "id": "wY9bVLTayn3H"
      },
      "source": [
        "# Тестирование модуля TF Hub на одном пакете данных\n",
        "for batch_data in test_dataset.take(1):\n",
        "    outputs = model(batch_data[0])\n",
        "    outputs = np.argmax(outputs, axis=-1)\n",
        "    print('Predicted Labels:', outputs)\n",
        "    print('True Labels:     ', batch_data[1].numpy())"
      ],
      "execution_count": null,
      "outputs": []
    },
    {
      "cell_type": "markdown",
      "metadata": {
        "id": "vA89jXmNZ5wk"
      },
      "source": [
        "Мы видим, что модель правильно предсказывает метки для большинства изображений в пакете."
      ]
    },
    {
      "cell_type": "markdown",
      "metadata": {
        "id": "ciRPFhPg8FWH"
      },
      "source": [
        "## Оценка модели с помощью Keras\n",
        "\n",
        "В ячейке ниже вы интегрируете модуль TensorFlow Hub в высокоуровневый Keras API."
      ]
    },
    {
      "cell_type": "code",
      "metadata": {
        "id": "YMjnPFOjxmus"
      },
      "source": [
        "# УПРАЖНЕНИЕ: интегрировать ваш модуль TensorFlow Hub в модель keras.Sequential\n",
        "# Вам следует использовать hub.KerasLayer и  убедиться, что вы используете\n",
        "# правильные значения output_shape и input_shape. \n",
        "# Вы также должны использовать tf.uint8 для параметра dtype.\n",
        "\n",
        "model = # ВАШ КОД ЗДЕСЬ\n",
        "\n",
        "model.compile(optimizer='adam',\n",
        "              loss='sparse_categorical_crossentropy', \n",
        "              metrics=['accuracy'])"
      ],
      "execution_count": null,
      "outputs": []
    },
    {
      "cell_type": "code",
      "metadata": {
        "id": "ShGHxh0Wx7lW"
      },
      "source": [
        "# Оценка модели на test_dataset.\n",
        "results = model.evaluate(test_dataset)"
      ],
      "execution_count": null,
      "outputs": []
    },
    {
      "cell_type": "code",
      "metadata": {
        "id": "wZ6jUqbDx7s4"
      },
      "source": [
        "#Вывод значений метрики оценки\n",
        "for name, value in zip(model.metrics_names, results):\n",
        "    print(\"%s: %.3f\" % (name, value))"
      ],
      "execution_count": null,
      "outputs": []
    }
  ]
}